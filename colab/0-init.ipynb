{
  "nbformat": 4,
  "nbformat_minor": 0,
  "metadata": {
    "colab": {
      "provenance": [],
      "machine_shape": "hm",
      "gpuType": "A100"
    },
    "kernelspec": {
      "name": "python3",
      "display_name": "Python 3"
    },
    "language_info": {
      "name": "python"
    },
    "accelerator": "GPU"
  },
  "cells": [
    {
      "cell_type": "code",
      "execution_count": null,
      "metadata": {
        "id": "kpm4IE3LhIAx"
      },
      "outputs": [],
      "source": [
        "from google.colab import auth, files\n",
        "\n",
        "!pip install intervaltree resampy # numpy scipy sklearn torch"
      ]
    },
    {
      "cell_type": "code",
      "source": [
        "!git clone https://github.com/pacannon/dl_signal.git /content/dl_signal/\n",
        "%cd /content/dl_signal/"
      ],
      "metadata": {
        "id": "5agpiaBXt9FC"
      },
      "execution_count": null,
      "outputs": []
    },
    {
      "cell_type": "code",
      "source": [
        "# In case your notebook doesn't come preinstalled with the cloud SDK:\n",
        "# !curl https://sdk.cloud.google.com | bash\n",
        "auth.authenticate_user()"
      ],
      "metadata": {
        "id": "bzmkqHsRjEXS"
      },
      "execution_count": null,
      "outputs": []
    },
    {
      "cell_type": "code",
      "source": [
        "!gsutil ls gs://dl_signal"
      ],
      "metadata": {
        "id": "ZqcJ-CF2jFCP"
      },
      "execution_count": null,
      "outputs": []
    },
    {
      "cell_type": "code",
      "source": [
        "files.upload()  # Upload ~/.kaggle/kaggle.json. See https://github.com/Kaggle/kaggle-api/blob/main/docs/README.md"
      ],
      "metadata": {
        "id": "1085eCvUkpMF"
      },
      "execution_count": null,
      "outputs": []
    },
    {
      "cell_type": "code",
      "source": [
        "!mkdir -p ~/.kaggle\n",
        "!cp kaggle.json ~/.kaggle/\n",
        "!chmod 600 ~/.kaggle/kaggle.json"
      ],
      "metadata": {
        "id": "t2D_dwMalWVQ"
      },
      "execution_count": null,
      "outputs": []
    },
    {
      "cell_type": "code",
      "source": [
        "# In case your notebook doesn't come preinstalled with kaggle:\n",
        "# !pip install kaggle\n",
        "\n",
        "!mkdir -p /content/dl_signal/music\n",
        "%cd /content/dl_signal/music\n",
        "!kaggle datasets download -d imsparsh/musicnet-dataset\n",
        "%cd /content/dl_signal"
      ],
      "metadata": {
        "id": "lTGt-uaDlfC9"
      },
      "execution_count": null,
      "outputs": []
    },
    {
      "cell_type": "code",
      "source": [
        "!gsutil cp -n /content/dl_signal/music/musicnet-dataset.zip gs://dl_signal/music/"
      ],
      "metadata": {
        "id": "UJYSB9sUlh09"
      },
      "execution_count": null,
      "outputs": []
    },
    {
      "cell_type": "code",
      "source": [
        "# # You can run this if you want to download musicnet-dataset.zip from your bucket upload afterwards.\n",
        "#\n",
        "# !gsutil cp gs://dl_signal/music/musicnet-dataset.zip /content/dl_signal/music/musicnet-dataset.zip"
      ],
      "metadata": {
        "id": "UDM_v2qZm8yw"
      },
      "execution_count": null,
      "outputs": []
    },
    {
      "cell_type": "code",
      "source": [
        "%cd /content/dl_signal/music/"
      ],
      "metadata": {
        "id": "BQ25CHTLvyiF"
      },
      "execution_count": null,
      "outputs": []
    },
    {
      "cell_type": "code",
      "source": [
        "!unzip /content/dl_signal/music/musicnet-dataset.zip"
      ],
      "metadata": {
        "id": "74CtrPxx0NcZ"
      },
      "execution_count": null,
      "outputs": []
    },
    {
      "cell_type": "code",
      "source": [
        "!rm /content/dl_signal/music/musicnet-dataset.zip"
      ],
      "metadata": {
        "id": "YsWYVqUz4o1F"
      },
      "execution_count": null,
      "outputs": []
    },
    {
      "cell_type": "code",
      "source": [
        "!gsutil cp -n /content/dl_signal/music/musicnet.npz gs://dl_signal/music/"
      ],
      "metadata": {
        "id": "3Z4u8YQV8qDB"
      },
      "execution_count": null,
      "outputs": []
    },
    {
      "cell_type": "code",
      "source": [
        "# # You can run this if you want to download musicnet.npz from your bucket upload afterwards.\n",
        "#\n",
        "# !gsutil cp gs://dl_signal/music/musicnet.npz /content/dl_signal/music/musicnet.npz"
      ],
      "metadata": {
        "id": "4W_zX12J9SnY"
      },
      "execution_count": null,
      "outputs": []
    },
    {
      "cell_type": "code",
      "source": [
        "# The following line may be useful:\n",
        "#\n",
        "# !sed -i 's/allow_pickle=False/allow_pickle=True/g' /content/dl_signal/music/resample.py\n",
        "#\n",
        "# # # # # # #\n",
        "\n",
        "%cd /content/dl_signal/music/\n",
        "!python -u resample.py /content/dl_signal/music/musicnet.npz /content/dl_signal/music/musicnet_11khz.npz 44100 11000"
      ],
      "metadata": {
        "id": "IxDZRRZFzVMJ"
      },
      "execution_count": null,
      "outputs": []
    },
    {
      "cell_type": "code",
      "source": [
        "!gsutil cp -n /content/dl_signal/music/musicnet_11khz.npz gs://dl_signal/music/"
      ],
      "metadata": {
        "id": "W15pST_izY3_"
      },
      "execution_count": null,
      "outputs": []
    },
    {
      "cell_type": "code",
      "source": [
        "# # You can run this if you want to download musicnet_11khz.npz from your bucket upload afterwards.\n",
        "#\n",
        "!gsutil cp gs://dl_signal/music/musicnet_11khz.npz /content/dl_signal/music/musicnet_11khz.npz"
      ],
      "metadata": {
        "id": "4MnbBFJqVp-V"
      },
      "execution_count": null,
      "outputs": []
    },
    {
      "cell_type": "code",
      "source": [
        "# The following line may be useful:\n",
        "#\n",
        "# !sed -i 's/allow_pickle=False/allow_pickle=True/g' /content/dl_signal/music/parse_file.py\n",
        "#\n",
        "# # # # # # #\n",
        "\n",
        "!python3 -u parse_file.py"
      ],
      "metadata": {
        "id": "9_tCvpcYOuv-"
      },
      "execution_count": null,
      "outputs": []
    },
    {
      "cell_type": "code",
      "source": [
        "!rm musicnet_11khz.npz"
      ],
      "metadata": {
        "id": "PIH0_MGHPZ-f"
      },
      "execution_count": null,
      "outputs": []
    },
    {
      "cell_type": "code",
      "source": [
        "%cd /content/dl_signal"
      ],
      "metadata": {
        "id": "huZNAVR9R-zx"
      },
      "execution_count": null,
      "outputs": []
    },
    {
      "cell_type": "code",
      "source": [
        "!python -u transformer/train.py"
      ],
      "metadata": {
        "id": "r_yeG_ukSDtQ"
      },
      "execution_count": null,
      "outputs": []
    },
    {
      "cell_type": "code",
      "source": [],
      "metadata": {
        "id": "pzBAB3XoSPJC"
      },
      "execution_count": null,
      "outputs": []
    }
  ]
}