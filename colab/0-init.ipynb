{
  "nbformat": 4,
  "nbformat_minor": 0,
  "metadata": {
    "colab": {
      "provenance": []
    },
    "kernelspec": {
      "name": "python3",
      "display_name": "Python 3"
    },
    "language_info": {
      "name": "python"
    }
  },
  "cells": [
    {
      "cell_type": "code",
      "execution_count": null,
      "metadata": {
        "id": "kpm4IE3LhIAx"
      },
      "outputs": [],
      "source": [
        "from google.colab import auth, files\n",
        "auth.authenticate_user()"
      ]
    },
    {
      "cell_type": "code",
      "source": [
        "!curl https://sdk.cloud.google.com | bash"
      ],
      "metadata": {
        "id": "bzmkqHsRjEXS"
      },
      "execution_count": null,
      "outputs": []
    },
    {
      "cell_type": "code",
      "source": [
        "!gsutil ls gs://dl_signal"
      ],
      "metadata": {
        "id": "ZqcJ-CF2jFCP"
      },
      "execution_count": null,
      "outputs": []
    },
    {
      "cell_type": "code",
      "source": [
        "!pip install kaggle"
      ],
      "metadata": {
        "id": "egO-U7VQjpyt"
      },
      "execution_count": null,
      "outputs": []
    },
    {
      "cell_type": "code",
      "source": [
        "files.upload()  # Upload ~/.kaggle/kaggle.json. See https://github.com/Kaggle/kaggle-api/blob/main/docs/README.md"
      ],
      "metadata": {
        "id": "1085eCvUkpMF"
      },
      "execution_count": null,
      "outputs": []
    },
    {
      "cell_type": "code",
      "source": [
        "!mkdir -p ~/.kaggle\n",
        "!cp kaggle.json ~/.kaggle/\n",
        "!chmod 600 ~/.kaggle/kaggle.json"
      ],
      "metadata": {
        "id": "t2D_dwMalWVQ"
      },
      "execution_count": null,
      "outputs": []
    },
    {
      "cell_type": "code",
      "source": [
        "!mkdir -p /content/music\n",
        "%cd /content/music\n",
        "!kaggle datasets download -d imsparsh/musicnet-dataset\n",
        "%cd /content"
      ],
      "metadata": {
        "id": "lTGt-uaDlfC9"
      },
      "execution_count": null,
      "outputs": []
    },
    {
      "cell_type": "code",
      "source": [
        "!gsutil cp /content/music/musicnet-dataset.zip gs://dl_signal/music/"
      ],
      "metadata": {
        "id": "UJYSB9sUlh09"
      },
      "execution_count": null,
      "outputs": []
    },
    {
      "cell_type": "code",
      "source": [
        "# Run this if you need to redownload musicnet-dataset.zip after\n",
        "# !gsutil cp gs://dl_signal/music/musicnet-dataset.zip /content/music/musicnet-dataset.zip"
      ],
      "metadata": {
        "id": "UDM_v2qZm8yw"
      },
      "execution_count": null,
      "outputs": []
    },
    {
      "cell_type": "code",
      "source": [],
      "metadata": {
        "id": "PcnU_2hbooqG"
      },
      "execution_count": null,
      "outputs": []
    }
  ]
}