{
  "cells": [
    {
      "cell_type": "code",
      "execution_count": null,
      "metadata": {
        "id": "kpm4IE3LhIAx"
      },
      "outputs": [],
      "source": [
        "from google.colab import auth, files, runtime\n",
        "!pip install intervaltree resampy mlflow python-dotenv torchmetrics # numpy scipy sklearn torch"
      ]
    },
    {
      "cell_type": "code",
      "execution_count": null,
      "metadata": {
        "id": "5agpiaBXt9FC"
      },
      "outputs": [],
      "source": [
        "!git clone https://github.com/pacannon/dl_signal.git /content/dl_signal/\n",
        "%cd /content/dl_signal/\n",
        "# !git pull"
      ]
    },
    {
      "cell_type": "code",
      "execution_count": null,
      "metadata": {
        "id": "bzmkqHsRjEXS"
      },
      "outputs": [],
      "source": [
        "# In case your notebook doesn't come preinstalled with the cloud SDK:\n",
        "# !curl https://sdk.cloud.google.com | bash\n",
        "auth.authenticate_user()\n",
        "\n",
        "!gsutil ls gs://dl_signal"
      ]
    },
    {
      "cell_type": "code",
      "execution_count": null,
      "metadata": {
        "id": "4MnbBFJqVp-V"
      },
      "outputs": [],
      "source": [
        "# You can run this if you want to download musicnet_11khz.npz from your bucket upload if it's been persisted.\n",
        "# (See Persistence section below.)\n",
        "\n",
        "!gsutil cp gs://dl_signal/music/musicnet_11khz.npz /content/dl_signal/music/musicnet_11khz.npz"
      ]
    },
    {
      "cell_type": "code",
      "execution_count": null,
      "metadata": {
        "id": "9_tCvpcYOuv-"
      },
      "outputs": [],
      "source": [
        "# The following line may be useful:\n",
        "#\n",
        "# !sed -i 's/allow_pickle=False/allow_pickle=True/g' /content/dl_signal/music/parse_file.py\n",
        "#\n",
        "# # # # # # #\n",
        "%cd /content/dl_signal/music/\n",
        "!python3 -u parse_file.py"
      ]
    },
    {
      "cell_type": "code",
      "execution_count": null,
      "metadata": {
        "id": "r_yeG_ukSDtQ"
      },
      "outputs": [],
      "source": [
        "%cd /content/dl_signal\n",
        "!python -u transformer/train.py"
      ]
    },
    {
      "cell_type": "code",
      "source": [
        "# To automatically disconnect after running an experiment, use Runtime -> \"Run after\"\n",
        "# to run all cells after the focused cell (including the focused cell)\n",
        "runtime.unassign()"
      ],
      "metadata": {
        "id": "5C7LOqPX7fdT"
      },
      "execution_count": null,
      "outputs": []
    },
    {
      "cell_type": "markdown",
      "metadata": {
        "id": "62a7LZqjoXut"
      },
      "source": [
        "## Training Data Preprocessing and Persistence"
      ]
    },
    {
      "cell_type": "code",
      "execution_count": null,
      "metadata": {
        "id": "1085eCvUkpMF"
      },
      "outputs": [],
      "source": [
        "files.upload()  # Upload ~/.kaggle/kaggle.json. See https://github.com/Kaggle/kaggle-api/blob/main/docs/README.md"
      ]
    },
    {
      "cell_type": "code",
      "execution_count": null,
      "metadata": {
        "id": "t2D_dwMalWVQ"
      },
      "outputs": [],
      "source": [
        "!mkdir -p ~/.kaggle\n",
        "!cp kaggle.json ~/.kaggle/\n",
        "!chmod 600 ~/.kaggle/kaggle.json"
      ]
    },
    {
      "cell_type": "code",
      "execution_count": null,
      "metadata": {
        "id": "lTGt-uaDlfC9"
      },
      "outputs": [],
      "source": [
        "# In case your notebook doesn't come preinstalled with kaggle:\n",
        "# !pip install kaggle\n",
        "\n",
        "!mkdir -p /content/dl_signal/music\n",
        "%cd /content/dl_signal/music\n",
        "!kaggle datasets download -d imsparsh/musicnet-dataset\n",
        "%cd /content/dl_signal"
      ]
    },
    {
      "cell_type": "code",
      "execution_count": null,
      "metadata": {
        "id": "UJYSB9sUlh09"
      },
      "outputs": [],
      "source": [
        "!gsutil cp -n /content/dl_signal/music/musicnet-dataset.zip gs://dl_signal/music/"
      ]
    },
    {
      "cell_type": "code",
      "execution_count": null,
      "metadata": {
        "id": "UDM_v2qZm8yw"
      },
      "outputs": [],
      "source": [
        "# # You can run this if you want to download musicnet-dataset.zip from your bucket upload afterwards.\n",
        "#\n",
        "# !gsutil cp gs://dl_signal/music/musicnet-dataset.zip /content/dl_signal/music/musicnet-dataset.zip"
      ]
    },
    {
      "cell_type": "code",
      "execution_count": null,
      "metadata": {
        "id": "BQ25CHTLvyiF"
      },
      "outputs": [],
      "source": [
        "%cd /content/dl_signal/music/"
      ]
    },
    {
      "cell_type": "code",
      "execution_count": null,
      "metadata": {
        "id": "74CtrPxx0NcZ"
      },
      "outputs": [],
      "source": [
        "!unzip /content/dl_signal/music/musicnet-dataset.zip"
      ]
    },
    {
      "cell_type": "code",
      "execution_count": null,
      "metadata": {
        "id": "YsWYVqUz4o1F"
      },
      "outputs": [],
      "source": [
        "!rm /content/dl_signal/music/musicnet-dataset.zip"
      ]
    },
    {
      "cell_type": "code",
      "execution_count": null,
      "metadata": {
        "id": "3Z4u8YQV8qDB"
      },
      "outputs": [],
      "source": [
        "!gsutil cp -n /content/dl_signal/music/musicnet.npz gs://dl_signal/music/"
      ]
    },
    {
      "cell_type": "code",
      "execution_count": null,
      "metadata": {
        "id": "4W_zX12J9SnY"
      },
      "outputs": [],
      "source": [
        "# # You can run this if you want to download musicnet.npz from your bucket upload afterwards.\n",
        "#\n",
        "# !gsutil cp gs://dl_signal/music/musicnet.npz /content/dl_signal/music/musicnet.npz"
      ]
    },
    {
      "cell_type": "code",
      "execution_count": null,
      "metadata": {
        "id": "IxDZRRZFzVMJ"
      },
      "outputs": [],
      "source": [
        "# The following line may be useful:\n",
        "#\n",
        "# !sed -i 's/allow_pickle=False/allow_pickle=True/g' /content/dl_signal/music/resample.py\n",
        "#\n",
        "# # # # # # #\n",
        "\n",
        "%cd /content/dl_signal/music/\n",
        "!python -u resample.py /content/dl_signal/music/musicnet.npz /content/dl_signal/music/musicnet_11khz.npz 44100 11000"
      ]
    },
    {
      "cell_type": "code",
      "execution_count": null,
      "metadata": {
        "id": "W15pST_izY3_"
      },
      "outputs": [],
      "source": [
        "!gsutil cp -n /content/dl_signal/music/musicnet_11khz.npz gs://dl_signal/music/"
      ]
    }
  ],
  "metadata": {
    "accelerator": "GPU",
    "colab": {
      "gpuType": "A100",
      "machine_shape": "hm",
      "provenance": []
    },
    "kernelspec": {
      "display_name": "Python 3.10",
      "language": "python",
      "name": "base"
    },
    "language_info": {
      "name": "python",
      "version": "3.10.13"
    }
  },
  "nbformat": 4,
  "nbformat_minor": 0
}